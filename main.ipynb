{
 "cells": [
  {
   "cell_type": "code",
   "execution_count": 2130,
   "outputs": [],
   "source": [
    "import numpy as np\n",
    "import pandas as pd\n",
    "import os"
   ],
   "metadata": {
    "collapsed": false,
    "pycharm": {
     "name": "#%%\n"
    }
   }
  },
  {
   "cell_type": "markdown",
   "source": [
    "# PART 1 of Allurion case study, by Juan Lopez\n",
    "#### Read me:\n",
    "\n",
    "##### Welcome to the part one of this case study. My main objective in this part is not only prove that I am capable of cleaning and processing data by myself, but to prove that I can write production-ready quality scripts that can actually be deployed in cloud environments and used for automatize takes for future use. It doesn't  matter if the inputs contain different data and contains more data than it this example, this code should take care of it and can be modified easily to solve bugs and to deal with unexpected data.\n",
    "\n",
    "###### Side note: Yes, this is displayed in a jupyter notebook so you can visualize and test things by yourself easily. But if this code was designed in such way that if it is saved as a python script and executed it will do its job ;)\n"
   ],
   "metadata": {
    "collapsed": false,
    "pycharm": {
     "name": "#%% md\n"
    }
   }
  },
  {
   "cell_type": "markdown",
   "source": [
    "### Loading data (read me)\n",
    "Loading the data. In this project we are going name the sheets 'INPUT_CUSTOMER_DATABASE', 'INPUT_CLINIC_LOCATOR', 'INPUT_DISTRIBUTOR_SELL_OUT', and 'PARAM_TABLES' by 'sheet_0', 'sheet_1', 'sheet_2', and 'sheet_3' respectively"
   ],
   "metadata": {
    "collapsed": false,
    "pycharm": {
     "name": "#%% md\n"
    }
   }
  },
  {
   "cell_type": "code",
   "execution_count": 2131,
   "outputs": [
    {
     "name": "stdout",
     "output_type": "stream",
     "text": [
      "Data has been loaded sucessfully ;)\n"
     ]
    }
   ],
   "source": [
    "\"\"\" Loading data \"\"\"\n",
    "def load_data():\n",
    "    filepath=\"/Users/juansmacbook/Desktop/Allurionproject/Part_1_Case_Study_Data_Inputs_v2.0.xlsx\"\n",
    "    sheet_0=pd.read_excel(filepath, header=14, usecols=\"C:O\", sheet_name=0)\n",
    "    sheet_1=pd.read_excel(filepath, header=13, usecols=\"B:G\", sheet_name=1)\n",
    "    sheet_2=pd.read_excel(filepath, header=13, usecols=\"B:G\", sheet_name=2)\n",
    "    sheet_3=pd.read_excel(filepath, header=11, usecols=\"C:E\", sheet_name=3)\n",
    "    print(\"Data has been loaded sucessfully ;)\")\n",
    "    return sheet_0, sheet_1, sheet_2, sheet_3\n",
    "sheet_0, sheet_1, sheet_2, sheet_3 = load_data()"
   ],
   "metadata": {
    "collapsed": false,
    "pycharm": {
     "name": "#%%\n"
    }
   }
  },
  {
   "cell_type": "markdown",
   "source": [
    "## 1) Transforming doctor specialities: Mapping the specialities in 'sheet_0' according to the parameters table on PARAM_TABLES\n",
    "\n",
    "In this first part we are going to do the cleaning of specialities in 'sheet_0' and 'sheet_3' (PARAM_TABLES) so later we can use the info in 'sheet_3' to every speciality in 'sheet_0' into their right name"
   ],
   "metadata": {
    "collapsed": false,
    "pycharm": {
     "name": "#%% md\n"
    }
   }
  },
  {
   "cell_type": "markdown",
   "source": [
    "\n",
    "\n",
    "\n",
    "Here what we are going to do is automatically cleaning the param table, and then we are using it to modify all the professions in the 'sheet_0'.\n",
    "Note that 'sheet_1' and 'sheet_2' don't display any information of specialities about new possible professionals (at least not correctly enough so we can use them)\n"
   ],
   "metadata": {
    "collapsed": false,
    "pycharm": {
     "name": "#%% md\n"
    }
   }
  },
  {
   "cell_type": "code",
   "execution_count": 2132,
   "outputs": [
    {
     "name": "stdout",
     "output_type": "stream",
     "text": [
      "True    36\n",
      "Name: unique_professions, dtype: int64\n",
      "For our fortune, all the cleaned specialities on INPUT_CUSTOMER now appear on our PARAM_TABLE, there is no need to manually add any :)\n",
      "Note for production: if we received any false value it means that we must update the PARAM_TABLE and add the corresponding speciality names, otherwise the function below will rise an exception! \n"
     ]
    }
   ],
   "source": [
    "\"\"\"Quick function to delete repeated spaces and lower case all letters, we are going to apply this function to the 'sheet_3' (PARAM_TABLE) and the specialities in 'sheet_0' so they are nice and clean to be modified later \"\"\"\n",
    "def delete_spaces_and_lowercase(sentence):\n",
    "    sentence=sentence.lower()\n",
    "    sentence=\" \".join(sentence.split())\n",
    "    return  sentence\n",
    "\n",
    "\"\"\"Lets apply the delete_spaces_and_lowercase() function to sheet1 and sheet3 as we already mentioned\"\"\"\n",
    "\n",
    "sheet_3[\"HCP Initial Specialty\"]=sheet_3[\"HCP Initial Specialty\"].apply(lambda x: delete_spaces_and_lowercase(x))\n",
    "for column in [\"HCP specialty\\n1\",\"HCP specialty\\n2\",\"HCP specialty\\n3\",\"HCP specialty\\n4\",\"HCP specialty\\n5\"]:\n",
    "    sheet_0[column]=sheet_0[column].apply(lambda x: delete_spaces_and_lowercase(x))\n",
    "\n",
    "\"\"\"Let's look at the professions on the sheet0 that are not on the params table, If there are any we will manually add them\"\"\"\n",
    "unique_professions=np.unique(np.concatenate((\n",
    "    sheet_0[\"HCP specialty\\n1\"].unique(),\n",
    "    sheet_0[\"HCP specialty\\n2\"].unique(),\n",
    "    sheet_0[\"HCP specialty\\n3\"].unique(),\n",
    "    sheet_0[\"HCP specialty\\n4\"].unique(),\n",
    "    sheet_0[\"HCP specialty\\n5\"].unique()), axis=0))\n",
    "unique_professions=pd.Series(unique_professions, name=\"unique_professions\")\n",
    "\n",
    "\"\"\"As you can see all specialities on the INPUT_CUSTOMER_DATABASE appear in our param table :)\"\"\"\n",
    "\"\"\"I actually designed the functions so they will throw an exception with a message if the condition above is not satisfied\"\"\"\n",
    "\n",
    "\n",
    "print(unique_professions.apply(lambda x: x in sheet_3[\"HCP Initial Specialty\"].to_numpy()).value_counts())\n",
    "print(\"For our fortune, all the cleaned specialities on INPUT_CUSTOMER now appear on our PARAM_TABLE, there is no need to manually add any :)\")\n",
    "print(\"Note for production: if we received any false value it means that we must update the PARAM_TABLE and add the corresponding speciality names, otherwise the function below will rise an exception! \")\n",
    "\n",
    "\n",
    "\n",
    "\"\"\"Since the parameter are nice and clean, the following function will take care of mapping them to the correct label \"\"\"\n",
    "\n",
    "def map_speciality_name(speciality):\n",
    "\n",
    "    row=sheet_3[sheet_3[\"HCP Initial Specialty\"]==speciality][0:1]\n",
    "    special_char=[\"-\", \"None\",\"Other\"]\n",
    "\n",
    "    if (row[\"Final Label\\nHCP Specialty\"].values in special_char) and (row[\"Contact Role\"].values in special_char ):\n",
    "        correct_label=row[\"HCP Initial Specialty\"].values\n",
    "    elif (row[\"Final Label\\nHCP Specialty\"].values not in special_char) and (row[\"Contact Role\"].values in special_char ):\n",
    "        correct_label=row[\"Final Label\\nHCP Specialty\"].values\n",
    "    elif (row[\"Final Label\\nHCP Specialty\"].values in special_char) and (row[\"Contact Role\"].values not in special_char ):\n",
    "        correct_label=row[\"Contact Role\"].values\n",
    "\n",
    "    elif (row[\"Final Label\\nHCP Specialty\"].values not in special_char) and (row[\"Contact Role\"].values not in special_char ):\n",
    "        correct_label=row[\"Final Label\\nHCP Specialty\"].values\n",
    "    else:\n",
    "        raise Exception(\"Hey! The speciality that you input in the function map_speciality_name() is not in the parameters list, or it has to valid labels\")\n",
    "    return correct_label[0]\n",
    "\n",
    "#test function for testing the function map_speciality_name()\n",
    "#for item in sheet_3[\"HCP Initial Specialty\"]:\n",
    "#    print(map_speciality_name(item))\n"
   ],
   "metadata": {
    "collapsed": false,
    "pycharm": {
     "name": "#%%\n"
    }
   }
  },
  {
   "cell_type": "markdown",
   "source": [
    "### Lets map specialities on sheet_1 using the map_speciality_name() function\n",
    "Now we are going to modify every speciality in the 'sheet_0' using the function we defined above"
   ],
   "metadata": {
    "collapsed": false,
    "pycharm": {
     "name": "#%% md\n"
    }
   }
  },
  {
   "cell_type": "code",
   "execution_count": 2133,
   "outputs": [],
   "source": [
    "\"\"\" We are mapping every speciality according to param table\"\"\"\n",
    "\n",
    "sheet_0[\"HCP specialty\\n1\"]=sheet_0[\"HCP specialty\\n1\"].apply(lambda x: map_speciality_name(x))\n",
    "sheet_0[\"HCP specialty\\n2\"]=sheet_0[\"HCP specialty\\n2\"].apply(lambda x: map_speciality_name(x))\n",
    "sheet_0[\"HCP specialty\\n3\"]=sheet_0[\"HCP specialty\\n3\"].apply(lambda x: map_speciality_name(x))\n",
    "sheet_0[\"HCP specialty\\n4\"]=sheet_0[\"HCP specialty\\n4\"].apply(lambda x: map_speciality_name(x))\n",
    "sheet_0[\"HCP specialty\\n5\"]=sheet_0[\"HCP specialty\\n5\"].apply(lambda x: map_speciality_name(x))\n"
   ],
   "metadata": {
    "collapsed": false,
    "pycharm": {
     "name": "#%%\n"
    }
   }
  },
  {
   "cell_type": "markdown",
   "source": [
    "## PART 2) Filling new doctor names in 'sheet_0' from 'sheet_1' and 'sheet_2'\n",
    "\n",
    "We have a lot of data from sheet 1 and 2 that is not appearing in 'sheet_0'. Therefore, we are going to add it so the resulting names are NEVER repeated.\n",
    "To do this, we must do extensive data cleaning, so we can distinguish between the same doctor name written in a lot of different ways."
   ],
   "metadata": {
    "collapsed": false,
    "pycharm": {
     "name": "#%% md\n"
    }
   }
  },
  {
   "cell_type": "markdown",
   "source": [
    "For now, we are going to start with some data preprocessing basics"
   ],
   "metadata": {
    "collapsed": false,
    "pycharm": {
     "name": "#%% md\n"
    }
   }
  },
  {
   "cell_type": "code",
   "execution_count": 2134,
   "outputs": [],
   "source": [
    "\"\"\" We rename sheet 1 and sheet 2 column to 'Customer unique ID' so they have a matching column with sheet 0. This is really important since we are going to malke make a joins from 'sheet_1' and 'sheet_2' into 'sheet_0' according to their unique ID identifier\"\"\"\n",
    "\n",
    "sheet_1.rename(columns = {'Customer Unique ID':'Customer unique ID'}, inplace = True)\n",
    "sheet_2.rename(columns = {'CUSTOMER UNIQUE ID':'Customer unique ID'}, inplace = True)\n",
    "\n",
    "\"\"\" We are also renaming other columns form the sheet 2 so it is easier to locate them when we join all the dataframes\"\"\"\n",
    "sheet_2.rename(columns = {'CLINIC NAME':'Clinic Name Italy'}, inplace = True)\n",
    "sheet_2.rename(columns = {'HCP\\nname 1':'HCP Name 1 Italy'}, inplace = True)\n",
    "sheet_2.rename(columns = {'HCP\\nname 2':'HCP Name 2 Italy'}, inplace = True)\n",
    "sheet_2.rename(columns = {'HCP\\nname 3':'HCP Name 3 Italy'}, inplace = True)"
   ],
   "metadata": {
    "collapsed": false,
    "pycharm": {
     "name": "#%%\n"
    }
   }
  },
  {
   "cell_type": "markdown",
   "source": [
    "Let's joins onto the 'sheet_0' using the unique ID identifier"
   ],
   "metadata": {
    "collapsed": false,
    "pycharm": {
     "name": "#%% md\n"
    }
   }
  },
  {
   "cell_type": "code",
   "execution_count": 2135,
   "outputs": [],
   "source": [
    "\"\"\"Lets Join the Sheet 1 on Sheet 0, we will use this sheet for operations\"\"\"\n",
    "sheet_joined=sheet_0.join(sheet_1[[\"Customer unique ID\",\"Clinic Name\",\"HCP Name\"]].set_index('Customer unique ID'), on='Customer unique ID')\n",
    "sheet_joined=sheet_joined.join(sheet_2[[\"Customer unique ID\",\"Clinic Name Italy\",'HCP Name 1 Italy', 'HCP Name 2 Italy', 'HCP Name 3 Italy']].set_index('Customer unique ID'), on='Customer unique ID')\n",
    "\n",
    "\"\"\"Let's replace NaN resulting from the join with '-' \"\"\"\n",
    "for columns in sheet_joined.columns:\n",
    "    sheet_joined[columns]=sheet_joined[columns].fillna(value='-')\n"
   ],
   "metadata": {
    "collapsed": false,
    "pycharm": {
     "name": "#%%\n"
    }
   }
  },
  {
   "cell_type": "code",
   "execution_count": 2136,
   "outputs": [],
   "source": [
    "\"\"\" Let's reorganize the name of the columns and call only the ones that are interesting for us\"\"\"\n",
    "sheet_joined=sheet_joined[[\"Customer unique ID\",\"Clinic Name\",\"Clinic Name Italy\",\"HCP Name\",'HCP Name 1 Italy','HCP Name 2 Italy','HCP Name 3 Italy',\"HCP Name\\n1\",\"HCP Name\\n2\",\"HCP Name\\n3\",\"HCP Name\\n4\",\"HCP Name\\n5\" ]]\n"
   ],
   "metadata": {
    "collapsed": false,
    "pycharm": {
     "name": "#%%\n"
    }
   }
  },
  {
   "cell_type": "markdown",
   "source": [
    "### Data cleaning pipeline\n",
    "In this part we are going to be creating functions and applying them into 'sheet_0', 'sheet_0' and 'sheet_0'. This ensures we are treating the data in the same 'format' and strucrure so we don't misinterpret data with equal names just because of special characters, accents, capital letters, or becasue the position of the first and the last name are flipped"
   ],
   "metadata": {
    "collapsed": false,
    "pycharm": {
     "name": "#%% md\n"
    }
   }
  },
  {
   "cell_type": "code",
   "execution_count": 2137,
   "outputs": [],
   "source": [
    "\"\"\"Defining a function to eliminate special characters that may do our life harder \"\"\"\n",
    "def delete_special_chars(string):\n",
    "    special_chars=['Dr ','med. ', 'Dr. ', 'Drs ', 'med. ', 'DR ', 'Dott ', 'Dott.ssa ', 'Prof ', 'prof ', 'pr ', 'dott ', 'met.','dott. ','drssa ','dr. ', ' dott. ','dott.']\n",
    "    for char in special_chars:\n",
    "        string=string.replace(char, '')\n",
    "    return string\n",
    "\n",
    "\"\"\"We are defining a function that will let us extract and separate multiple names that are into stuck in the same string separated by commas or weird characters\"\"\"\n",
    "\n",
    "import re\n",
    "def separate_into_lists(string):\n",
    "    return re.split('; |, | & | et | / ', string)\n",
    "import unidecode\n",
    "def delete_accents(string):\n",
    "    return unidecode.unidecode(string)\n",
    "\n",
    "\"\"\"Lets apply the previous functions that we defined and some others that are really helpful\"\"\"\n",
    "\n",
    "for column in [\"HCP Name\",'HCP Name 1 Italy','HCP Name 2 Italy','HCP Name 3 Italy',\"HCP Name\\n1\",\"HCP Name\\n2\",\"HCP Name\\n3\",\"HCP Name\\n4\",\"HCP Name\\n5\"]:\n",
    "    sheet_joined[column]=sheet_joined[column].apply(lambda x: delete_special_chars(x))\n",
    "    sheet_joined[column]=sheet_joined[column].apply(lambda x: delete_accents(x))\n",
    "    sheet_joined[column]=sheet_joined[column].apply(lambda x: x.lower())\n",
    "    sheet_joined[column]=sheet_joined[column].apply(lambda x: separate_into_lists(x) if x!='-' else '-')\n",
    "#sheet_joined[sheet_joined.columns[3:]]"
   ],
   "metadata": {
    "collapsed": false,
    "pycharm": {
     "name": "#%%\n"
    }
   }
  },
  {
   "cell_type": "markdown",
   "source": [
    "## Adding the new and non-repeated clean names to 'sheet_0'\n",
    "This is the fun part, here we have to do a lot of processing so we can now exactly what names are we going to add. the names of sheet_0, 'sheet_1' and 'sheet_2' are already as cleaned as I could. However, there are a lot names that are written in different form and we have to detect that in order to do a really good job.\n",
    "\n",
    "For example, let's say that we have two doctor names for the same professional, perhps 'dr. lopez juan' and 'j. lopez', our algorithm must detect that this names are actually the same.\n",
    "\n",
    "Next, we have to manipulate the data in all the sheets, so we know exactly what names are repeated and how we are going to inject them into the sheet_0 without repeating. To do so, we have to quite a long and challenging process, which took a lot of time, so I made sure my job was done correctly."
   ],
   "metadata": {
    "collapsed": false,
    "pycharm": {
     "name": "#%% md\n"
    }
   }
  },
  {
   "cell_type": "code",
   "execution_count": 2138,
   "outputs": [
    {
     "data": {
      "text/plain": "(True, ' ', ' test string ')"
     },
     "execution_count": 2138,
     "metadata": {},
     "output_type": "execute_result"
    }
   ],
   "source": [
    "\"\"\"The following function will help us compare two strings, if the two strings are the same, or similar in some way, the function will return True\"\"\"\n",
    "\"\"\" This function is extremely useful and we will be used in the final process\"\"\"\n",
    "\n",
    "\n",
    "def compare_names(string1,string2): #Recieves two names and return whether the professionals are the same\n",
    "    string1_to_return=string1\n",
    "    string2_to_return=string2\n",
    "    string1=string1.split(' ')\n",
    "    string2=string2.split(' ')\n",
    "    if ' ' in string1:\n",
    "        string1.remove('')\n",
    "    if '' in string2:\n",
    "        string2.remove('')\n",
    "    return np.in1d(np.array(string1),np.array(string2)).any(), string1_to_return, string2_to_return #Returns a triple\n",
    "compare_names(\" \", \" test string \")\n"
   ],
   "metadata": {
    "collapsed": false,
    "pycharm": {
     "name": "#%%\n"
    }
   }
  },
  {
   "cell_type": "markdown",
   "source": [
    "### Transformation pipeline\n",
    "\n",
    "This is the fun part. Since our data at this point have been through a process of cleaning and standardization. The next step is going to be creating a function that will take the whole dataframe form 'sheet_0' and will do a series of manipulations, transformations and mapping so the output is nice and clean.\n",
    "\n",
    "The next function will take care of that. Inside it will do various subprocesses that are really important. I will try to explain them as good as possible"
   ],
   "metadata": {
    "collapsed": false,
    "pycharm": {
     "name": "#%% md\n"
    }
   }
  },
  {
   "cell_type": "code",
   "execution_count": 2139,
   "outputs": [],
   "source": [
    "\n",
    "\"\"\"df0 to df3 refers to columns from sheet_1 and sheet_2. df4 to df8 are the entries from sheet_0\"\"\"\n",
    "def merge_names(df0,df1,df2,df3,df4,df5,df6,df7,df8):\n",
    "\n",
    "#\"\"\" Group the inputs form sheet_0 and name them as 'old_entries', and group new incoming data from sheet_1 and sheet_2 together '\"\"\"\n",
    "    new_entries = [df0,df1,df2,df3]\n",
    "    old_entries = [df4,df5,df6,df7,df8]\n",
    "\n",
    "#\"\"\"Unlist the names on sheet_0 since they are encapsulated in a List\"\"\"\n",
    "    slots_to_add=[] #This is how we are calling the 'slots' on sheet_0 that we are going to fill\n",
    "    for item in old_entries:\n",
    "        if item=='-': slots_to_add.append(item)\n",
    "        else: slots_to_add.append(item[0])\n",
    "\n",
    "#\"\"\"Joining all the new entries in lists; those form she sheet 1 and from the sheet2. New list will be called HCP and will be the one used to be modified until it contains the correct info that we will have to be injected to the 'slots_to_add'\"\"\"\n",
    "\n",
    "    HCP=[]\n",
    "    for item in new_entries:\n",
    "        if item!='-': HCP=HCP+item;\n",
    "    if HCP==[]: HCP=['-']\n",
    "\n",
    "#\"\"\"Let's look at the list of names that we have to add, and transform so every list contains unique names \"\"\"\n",
    "    HCP_iter=HCP\n",
    "    if len(HCP)>1:\n",
    "        for item in HCP:\n",
    "            i=0\n",
    "            statements=[]\n",
    "            while i<len(HCP_iter):\n",
    "                statement,_,_=compare_names(item,HCP_iter[i])\n",
    "                statements.append(statement)\n",
    "                i+=1\n",
    "            if sum(statements)>1:\n",
    "                HCP_iter.remove(item)\n",
    "#\"\"\"NOTE: From now, we are not going to keep using HCP as the data that have to be injected, but a copy of it called HCP_iter\"\"\"\n",
    "\n",
    "#\"\"\"Since we already now that the data in HCP_iter is unique, We are going to remove the names that are already appearing in 'sheet_0'\"\"\"\n",
    "    for i in range(len(slots_to_add)):\n",
    "        j=0\n",
    "        while j<len(HCP_iter):\n",
    "            found, _, _ = compare_names(HCP_iter[j],slots_to_add[i])\n",
    "            \"\"\"We select the longest string\"\"\"\n",
    "            if found==True:\n",
    "                if len(HCP_iter[j])>len(slots_to_add[i]): longest_string=HCP_iter[j];\n",
    "                else: longest_string=slots_to_add[i];\n",
    "                slots_to_add[i]=longest_string\n",
    "                HCP_iter.remove(HCP_iter[j])\n",
    "            j+=1\n",
    "\n",
    "#\"\"\"For now, the HCP_iter lists contains only unique names that have to be applied in the sheet_0 \"\"\"\n",
    "\n",
    "#\"\"\"Now let's inject the professionals into the right columns on sheet_0 \"\"\"\n",
    "    if HCP_iter!=[]:\n",
    "        for i in range(len(slots_to_add)):\n",
    "            if slots_to_add[i] != '-':\n",
    "                pass\n",
    "            else:\n",
    "                if HCP_iter != []:\n",
    "                    slots_to_add[i] = HCP_iter.pop(0)\n",
    "\n",
    "\n",
    "#\"\"\"defining outputs\"\"\"\n",
    "    output= pd.Series(slots_to_add)\n",
    "\n",
    "    return output\n",
    "\n"
   ],
   "metadata": {
    "collapsed": false,
    "pycharm": {
     "name": "#%%\n"
    }
   }
  },
  {
   "cell_type": "markdown",
   "source": [
    "### Putting all together\n",
    "\n",
    "We are calling the pipeline function that we just defined, and we are applying it into the actual 'sheet_0', so the original Excel file is transformed into its  correct version!"
   ],
   "metadata": {
    "collapsed": false,
    "pycharm": {
     "name": "#%% md\n"
    }
   }
  },
  {
   "cell_type": "code",
   "execution_count": 2140,
   "outputs": [],
   "source": [
    "\"\"\"Let's pass the data trough our pipeline!\"\"\"\n",
    "col0,col1,col2,col3,col4,col5,col6,col7,col8 = sheet_joined.columns[3:]\n",
    "result=sheet_joined[sheet_joined.columns[3:]].apply(lambda x: merge_names(x[col0], x[col1], x[col2], x[col3], x[col4], x[col5], x[col6], x[col7], x[col8]), axis=1)\n",
    "sheet_0[\"HCP Name\\n1\"]=result[0]\n",
    "sheet_0[\"HCP Name\\n2\"]=result[1]\n",
    "sheet_0[\"HCP Name\\n3\"]=result[2]\n",
    "sheet_0[\"HCP Name\\n4\"]=result[3]\n",
    "sheet_0[\"HCP Name\\n5\"]=result[4]\n"
   ],
   "metadata": {
    "collapsed": false,
    "pycharm": {
     "name": "#%%\n"
    }
   }
  },
  {
   "cell_type": "markdown",
   "source": [
    "### Now the data of sheet_0 (INPUT_CUSTOMER_DATABASE) have been modified and ready to be saved as an Excel file :)\n",
    "\n",
    "Let's take a look at it and save it as an Excel file"
   ],
   "metadata": {
    "collapsed": false,
    "pycharm": {
     "name": "#%% md\n"
    }
   }
  },
  {
   "cell_type": "code",
   "execution_count": 2141,
   "outputs": [
    {
     "data": {
      "text/plain": "    Customer unique ID               Account Name        HCP Name\\n1  \\\n0             CH000001          Dr Nikolaus Linde     nikolaus linde   \n1             CH000002    Espace Chirurgie - Bern     christof buser   \n2             CH000003  Studio Medico Switzerland       andrea morri   \n3             CH000004       Clinique Rive Gauche       neda barouti   \n4             CH000005       Dr Dimitrios Samaras  dimitrios samaras   \n..                 ...                        ...                ...   \n186           SE000006            Cavalio - Malmö                  -   \n187           SE000007         Cavalio - Göteborg                  -   \n188           SE000008       Gastroklinik - Malmö   haytham al-tayar   \n189           SE000009  Gastroklinik - Gothenburg   haytham al-tayar   \n190           SE000010             Estetikcentrum         ali bagher   \n\n        HCP specialty\\n1    HCP Name\\n2  \\\n0    Aesthetic physician              -   \n1                      -  andre witschi   \n2                      -              -   \n3          dermatologist          cathy   \n4              internist              -   \n..                   ...            ...   \n186                    -              -   \n187                    -              -   \n188                    -      ali dalfi   \n189                    -      ali dalfi   \n190                    -              -   \n\n                          HCP specialty\\n2 HCP Name\\n3 HCP specialty\\n3  \\\n0                                        -           -                -   \n1                                        -           -                -   \n2                                        -           -                -   \n3    Patient Manager / Coordinator General           -                -   \n4                                        -           -                -   \n..                                     ...         ...              ...   \n186                                      -           -                -   \n187                                      -           -                -   \n188                                      -           -                -   \n189                                      -           -                -   \n190                                      -           -                -   \n\n    HCP Name\\n4 HCP specialty\\n4 HCP Name\\n5 HCP specialty\\n5  \\\n0             -                -           -                -   \n1             -                -           -                -   \n2             -                -           -                -   \n3             -                -           -                -   \n4             -                -           -                -   \n..          ...              ...         ...              ...   \n186           -                -           -                -   \n187           -                -           -                -   \n188           -                -           -                -   \n189           -                -           -                -   \n190           -                -           -                -   \n\n    Clinic Locator ID  \n0                   -  \n1                3812  \n2                3814  \n3                4180  \n4                4181  \n..                ...  \n186              4237  \n187              4238  \n188              3818  \n189              3817  \n190              4587  \n\n[191 rows x 13 columns]",
      "text/html": "<div>\n<style scoped>\n    .dataframe tbody tr th:only-of-type {\n        vertical-align: middle;\n    }\n\n    .dataframe tbody tr th {\n        vertical-align: top;\n    }\n\n    .dataframe thead th {\n        text-align: right;\n    }\n</style>\n<table border=\"1\" class=\"dataframe\">\n  <thead>\n    <tr style=\"text-align: right;\">\n      <th></th>\n      <th>Customer unique ID</th>\n      <th>Account Name</th>\n      <th>HCP Name\\n1</th>\n      <th>HCP specialty\\n1</th>\n      <th>HCP Name\\n2</th>\n      <th>HCP specialty\\n2</th>\n      <th>HCP Name\\n3</th>\n      <th>HCP specialty\\n3</th>\n      <th>HCP Name\\n4</th>\n      <th>HCP specialty\\n4</th>\n      <th>HCP Name\\n5</th>\n      <th>HCP specialty\\n5</th>\n      <th>Clinic Locator ID</th>\n    </tr>\n  </thead>\n  <tbody>\n    <tr>\n      <th>0</th>\n      <td>CH000001</td>\n      <td>Dr Nikolaus Linde</td>\n      <td>nikolaus linde</td>\n      <td>Aesthetic physician</td>\n      <td>-</td>\n      <td>-</td>\n      <td>-</td>\n      <td>-</td>\n      <td>-</td>\n      <td>-</td>\n      <td>-</td>\n      <td>-</td>\n      <td>-</td>\n    </tr>\n    <tr>\n      <th>1</th>\n      <td>CH000002</td>\n      <td>Espace Chirurgie - Bern</td>\n      <td>christof buser</td>\n      <td>-</td>\n      <td>andre witschi</td>\n      <td>-</td>\n      <td>-</td>\n      <td>-</td>\n      <td>-</td>\n      <td>-</td>\n      <td>-</td>\n      <td>-</td>\n      <td>3812</td>\n    </tr>\n    <tr>\n      <th>2</th>\n      <td>CH000003</td>\n      <td>Studio Medico Switzerland</td>\n      <td>andrea morri</td>\n      <td>-</td>\n      <td>-</td>\n      <td>-</td>\n      <td>-</td>\n      <td>-</td>\n      <td>-</td>\n      <td>-</td>\n      <td>-</td>\n      <td>-</td>\n      <td>3814</td>\n    </tr>\n    <tr>\n      <th>3</th>\n      <td>CH000004</td>\n      <td>Clinique Rive Gauche</td>\n      <td>neda barouti</td>\n      <td>dermatologist</td>\n      <td>cathy</td>\n      <td>Patient Manager / Coordinator General</td>\n      <td>-</td>\n      <td>-</td>\n      <td>-</td>\n      <td>-</td>\n      <td>-</td>\n      <td>-</td>\n      <td>4180</td>\n    </tr>\n    <tr>\n      <th>4</th>\n      <td>CH000005</td>\n      <td>Dr Dimitrios Samaras</td>\n      <td>dimitrios samaras</td>\n      <td>internist</td>\n      <td>-</td>\n      <td>-</td>\n      <td>-</td>\n      <td>-</td>\n      <td>-</td>\n      <td>-</td>\n      <td>-</td>\n      <td>-</td>\n      <td>4181</td>\n    </tr>\n    <tr>\n      <th>...</th>\n      <td>...</td>\n      <td>...</td>\n      <td>...</td>\n      <td>...</td>\n      <td>...</td>\n      <td>...</td>\n      <td>...</td>\n      <td>...</td>\n      <td>...</td>\n      <td>...</td>\n      <td>...</td>\n      <td>...</td>\n      <td>...</td>\n    </tr>\n    <tr>\n      <th>186</th>\n      <td>SE000006</td>\n      <td>Cavalio - Malmö</td>\n      <td>-</td>\n      <td>-</td>\n      <td>-</td>\n      <td>-</td>\n      <td>-</td>\n      <td>-</td>\n      <td>-</td>\n      <td>-</td>\n      <td>-</td>\n      <td>-</td>\n      <td>4237</td>\n    </tr>\n    <tr>\n      <th>187</th>\n      <td>SE000007</td>\n      <td>Cavalio - Göteborg</td>\n      <td>-</td>\n      <td>-</td>\n      <td>-</td>\n      <td>-</td>\n      <td>-</td>\n      <td>-</td>\n      <td>-</td>\n      <td>-</td>\n      <td>-</td>\n      <td>-</td>\n      <td>4238</td>\n    </tr>\n    <tr>\n      <th>188</th>\n      <td>SE000008</td>\n      <td>Gastroklinik - Malmö</td>\n      <td>haytham al-tayar</td>\n      <td>-</td>\n      <td>ali dalfi</td>\n      <td>-</td>\n      <td>-</td>\n      <td>-</td>\n      <td>-</td>\n      <td>-</td>\n      <td>-</td>\n      <td>-</td>\n      <td>3818</td>\n    </tr>\n    <tr>\n      <th>189</th>\n      <td>SE000009</td>\n      <td>Gastroklinik - Gothenburg</td>\n      <td>haytham al-tayar</td>\n      <td>-</td>\n      <td>ali dalfi</td>\n      <td>-</td>\n      <td>-</td>\n      <td>-</td>\n      <td>-</td>\n      <td>-</td>\n      <td>-</td>\n      <td>-</td>\n      <td>3817</td>\n    </tr>\n    <tr>\n      <th>190</th>\n      <td>SE000010</td>\n      <td>Estetikcentrum</td>\n      <td>ali bagher</td>\n      <td>-</td>\n      <td>-</td>\n      <td>-</td>\n      <td>-</td>\n      <td>-</td>\n      <td>-</td>\n      <td>-</td>\n      <td>-</td>\n      <td>-</td>\n      <td>4587</td>\n    </tr>\n  </tbody>\n</table>\n<p>191 rows × 13 columns</p>\n</div>"
     },
     "execution_count": 2141,
     "metadata": {},
     "output_type": "execute_result"
    }
   ],
   "source": [
    "sheet_0.to_excel(\"output_part1.xlsx\")\n",
    "sheet_0"
   ],
   "metadata": {
    "collapsed": false,
    "pycharm": {
     "name": "#%%\n"
    }
   }
  },
  {
   "cell_type": "code",
   "execution_count": 2142,
   "outputs": [
    {
     "name": "stdout",
     "output_type": "stream",
     "text": [
      "Case_Study_Instructions_v3.0.pptx\r\n",
      "Part_1_Case_Study_Data_Inputs_v2.0.xlsx\r\n",
      "Part_2_Case_Study_Data_Inputs_v2.0.xlsb\r\n",
      "main.ipynb\r\n",
      "output_part1.xlsx\r\n",
      "\u001B[34mvenv\u001B[m\u001B[m/\r\n",
      "~$Part_1_Case_Study_Data_Inputs_v2.0.xlsx\r\n"
     ]
    }
   ],
   "source": [
    "ls"
   ],
   "metadata": {
    "collapsed": false,
    "pycharm": {
     "name": "#%%\n"
    }
   }
  },
  {
   "cell_type": "code",
   "execution_count": 2142,
   "outputs": [],
   "source": [],
   "metadata": {
    "collapsed": false,
    "pycharm": {
     "name": "#%%\n"
    }
   }
  }
 ],
 "metadata": {
  "kernelspec": {
   "display_name": "Python 3",
   "language": "python",
   "name": "python3"
  },
  "language_info": {
   "codemirror_mode": {
    "name": "ipython",
    "version": 2
   },
   "file_extension": ".py",
   "mimetype": "text/x-python",
   "name": "python",
   "nbconvert_exporter": "python",
   "pygments_lexer": "ipython2",
   "version": "2.7.6"
  }
 },
 "nbformat": 4,
 "nbformat_minor": 0
}